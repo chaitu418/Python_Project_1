{
 "cells": [
  {
   "cell_type": "code",
   "execution_count": 30,
   "id": "d7826676",
   "metadata": {},
   "outputs": [
    {
     "name": "stdout",
     "output_type": "stream",
     "text": [
      "ARGS\n",
      "10 <class 'int'>\n",
      "20 <class 'int'>\n",
      "30 <class 'int'>\n",
      "40 <class 'int'>\n",
      "50 <class 'int'>\n",
      "KWARGS\n",
      "ARGS\n",
      "10 <class 'int'>\n",
      "20 <class 'int'>\n",
      "KWARGS\n",
      "key ==> name\n",
      "Value ==> dakash\n",
      "key ==> type\n",
      "Value ==> abc\n",
      "ARGS\n",
      "10 <class 'int'>\n",
      "20 <class 'int'>\n",
      "30 <class 'int'>\n",
      "KWARGS\n",
      "key ==> 1\n",
      "Value ==> 10\n",
      "key ==> 2\n",
      "Value ==> 20\n"
     ]
    }
   ],
   "source": [
    "#combiantionof args and kkwargs\n",
    "def func(*args,**kwargs):\n",
    "    print(\"ARGS\")\n",
    "    for item in args:\n",
    "        print(item,type(item))\n",
    "    print(\"KWARGS\")\n",
    "    for key,value in kwargs.items():\n",
    "        print(\"key ==>\",key)\n",
    "        print(\"Value ==>\",value)\n",
    "func(10,20,30,40,50)\n",
    "func(10,20,name=\"dakash\",type=\"abc\")  \n",
    "func(*[10,20,30],**{\"1\":10,\"2\":20})"
   ]
  },
  {
   "cell_type": "code",
   "execution_count": null,
   "id": "e4818d68",
   "metadata": {},
   "outputs": [],
   "source": []
  },
  {
   "cell_type": "code",
   "execution_count": null,
   "id": "298bc6dd",
   "metadata": {},
   "outputs": [],
   "source": []
  }
 ],
 "metadata": {
  "kernelspec": {
   "display_name": "Python 3 (ipykernel)",
   "language": "python",
   "name": "python3"
  },
  "language_info": {
   "codemirror_mode": {
    "name": "ipython",
    "version": 3
   },
   "file_extension": ".py",
   "mimetype": "text/x-python",
   "name": "python",
   "nbconvert_exporter": "python",
   "pygments_lexer": "ipython3",
   "version": "3.9.7"
  }
 },
 "nbformat": 4,
 "nbformat_minor": 5
}
